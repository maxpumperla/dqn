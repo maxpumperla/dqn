{
 "cells": [
  {
   "cell_type": "code",
   "execution_count": 1,
   "id": "agreed-presentation",
   "metadata": {},
   "outputs": [],
   "source": [
    "import gym\n",
    "import torch\n",
    "import torch.nn as nn\n",
    "import torch.nn.functional as F\n",
    "from IPython.display import HTML"
   ]
  },
  {
   "cell_type": "code",
   "execution_count": 2,
   "id": "expensive-bernard",
   "metadata": {},
   "outputs": [
    {
     "data": {
      "text/plain": [
       "'\\nenv = gym.make(\\'LunarLander-v2\\')\\nenv = gym.wrappers.Monitor(env, \"./gym-results\", force=True)\\n\\nfor _ in range(10):\\n    env.reset()\\n    done = False\\n    while not done:\\n        action = env.action_space.sample()\\n        observation, reward, done, info = env.step(action)\\nenv.close()\\n'"
      ]
     },
     "execution_count": 2,
     "metadata": {},
     "output_type": "execute_result"
    }
   ],
   "source": [
    "\"\"\"\n",
    "env = gym.make('LunarLander-v2')\n",
    "env = gym.wrappers.Monitor(env, \"./gym-results\", force=True)\n",
    "\n",
    "for _ in range(10):\n",
    "    env.reset()\n",
    "    done = False\n",
    "    while not done:\n",
    "        action = env.action_space.sample()\n",
    "        observation, reward, done, info = env.step(action)\n",
    "env.close()\n",
    "\"\"\""
   ]
  },
  {
   "cell_type": "code",
   "execution_count": 3,
   "id": "junior-tractor",
   "metadata": {},
   "outputs": [
    {
     "data": {
      "text/plain": [
       "'\\nimport io\\nimport base64\\nfrom IPython.display import HTML\\n\\nvideo = io.open(\\'./gym-results/openaigym.video.%s.video000000.mp4\\' % env.file_infix, \\'r+b\\').read()\\nencoded = base64.b64encode(video)\\nHTML(data=\\'\\'\\'\\n    <video width=\"360\" height=\"auto\" alt=\"test\" controls><source src=\"data:video/mp4;base64,{0}\" type=\"video/mp4\" /></video>\\'\\'\\'\\n.format(encoded.decode(\\'ascii\\')))\\n'"
      ]
     },
     "execution_count": 3,
     "metadata": {},
     "output_type": "execute_result"
    }
   ],
   "source": [
    "\"\"\"\n",
    "import io\n",
    "import base64\n",
    "from IPython.display import HTML\n",
    "\n",
    "video = io.open('./gym-results/openaigym.video.%s.video000000.mp4' % env.file_infix, 'r+b').read()\n",
    "encoded = base64.b64encode(video)\n",
    "HTML(data='''\n",
    "    <video width=\"360\" height=\"auto\" alt=\"test\" controls><source src=\"data:video/mp4;base64,{0}\" type=\"video/mp4\" /></video>'''\n",
    ".format(encoded.decode('ascii')))\n",
    "\"\"\""
   ]
  },
  {
   "cell_type": "code",
   "execution_count": 4,
   "id": "boring-concept",
   "metadata": {},
   "outputs": [
    {
     "data": {
      "image/png": "[encoded data removed]",
      "text/plain": [
       "<Figure size 432x288 with 1 Axes>"
      ]
     },
     "metadata": {
      "needs_background": "light"
     },
     "output_type": "display_data"
    }
   ],
   "source": [
    "import gym\n",
    "from IPython import display\n",
    "import matplotlib\n",
    "import matplotlib.pyplot as plt\n",
    "%matplotlib inline\n",
    "\n",
    "env = gym.make('LunarLander-v2')\n",
    "#env.reset()\n",
    "img = plt.imshow(env.render(mode='rgb_array')) # only call this once\n",
    "for _ in range(2):\n",
    "    env.reset()\n",
    "    done = False\n",
    "    while not done:\n",
    "        img.set_data(env.render(mode='rgb_array')) # just update the data\n",
    "        display.display(plt.gcf())\n",
    "        display.clear_output(wait=True)\n",
    "        action = env.action_space.sample()\n",
    "        s_, r, done, i = env.step(action)\n",
    "env.close()"
   ]
  },
  {
   "cell_type": "code",
   "execution_count": 13,
   "id": "informative-cooler",
   "metadata": {},
   "outputs": [],
   "source": [
    "import ipywidgets as widgets\n",
    "from ipywidgets import interact\n",
    "from IPython.display import display"
   ]
  },
  {
   "cell_type": "code",
   "execution_count": 14,
   "id": "impressed-tablet",
   "metadata": {},
   "outputs": [
    {
     "data": {
      "application/vnd.jupyter.widget-view+json": {
       "model_id": "d232dcc0d86e44e7b39066fd7d841745",
       "version_major": 2,
       "version_minor": 0
      },
      "text/plain": [
       "Label(value='Environment name: ')"
      ]
     },
     "metadata": {},
     "output_type": "display_data"
    }
   ],
   "source": [
    "import gym\n",
    "\n",
    "env_name_label = widgets.Label('Environment name: ')\n",
    "\n",
    "env_name = widgets.Dropdown(\n",
    "    options=['LunarLander-v2', 'CartPole-v0', 'MountainCar-v0'],\n",
    "    value='LunarLander-v2',\n",
    "    #description='Env name:',\n",
    "    disabled=False,\n",
    ")\n",
    "\n",
    "mem_fill_eps_label = widgets.Label('Memory Fill Epochs: ',\n",
    "                                    #layout=widgets.Layout(width='auto', grid_area='mem_fill_eps_label')\n",
    "                                    #layout=widgets.Layout(width='auto', height='auto')\n",
    "                                  )\n",
    "\n",
    "mem_fill_eps = widgets.IntSlider(\n",
    "    value=10,\n",
    "    min=0,\n",
    "    max=1000,\n",
    "    step=10,\n",
    "    #description='Memory fill epochs:',\n",
    "    disabled=False,\n",
    "    continuous_update=False,\n",
    "    orientation='horizontal',\n",
    "    readout=True,\n",
    "    readout_format='d',\n",
    "    #style={'description_width': '130px'}\n",
    "    #layout=widgets.Layout(width='auto', grid_area='mem_fill_eps')\n",
    "    #layout=widgets.Layout(width='auto', height='auto')\n",
    ")\n",
    "\n",
    "train_eps_label = widgets.Label('Train Epochs: ',\n",
    "                                #layout=widgets.Layout(width='auto', grid_area='train_eps_label')\n",
    "                                #layout=widgets.Layout(width='auto', height='auto')\n",
    "                               )\n",
    "\n",
    "train_eps = widgets.IntSlider(\n",
    "    value=1000,\n",
    "    min=100,\n",
    "    max=3000,\n",
    "    step=100,\n",
    "    #description='Train epochs:',\n",
    "    disabled=False,\n",
    "    continuous_update=False,\n",
    "    orientation='horizontal',\n",
    "    readout=True,\n",
    "    readout_format='d',\n",
    "    #layout=widgets.Layout(width='auto', grid_area='train_eps')\n",
    "    #layout=widgets.Layout(width='auto', height='auto')\n",
    ")\n",
    "                                \n",
    "\n",
    "display(env_name_label)\n",
    "#display(mem_fill_eps)\n",
    "#display(widgets.HBox([widgets.Label('Memory Fill Epochs'), mem_fill_eps]))\n",
    "#display(train_eps)\n",
    "#display(widgets.HBox([widgets.Label('Train Epochs'), train_eps]))"
   ]
  },
  {
   "cell_type": "code",
   "execution_count": 15,
   "id": "american-master",
   "metadata": {},
   "outputs": [
    {
     "data": {
      "application/vnd.jupyter.widget-view+json": {
       "model_id": "7c0e62c470c64d8db08c12c5bd56f877",
       "version_major": 2,
       "version_minor": 0
      },
      "text/plain": [
       "GridBox(children=(Label(value='Environment name: '), Dropdown(options=('LunarLander-v2', 'CartPole-v0', 'Mount…"
      ]
     },
     "metadata": {},
     "output_type": "display_data"
    }
   ],
   "source": [
    "widgets.GridBox(children=[env_name_label, env_name, mem_fill_eps_label, mem_fill_eps, train_eps_label, train_eps],\n",
    "        layout=widgets.Layout(\n",
    "            width='50%',\n",
    "            grid_template_rows='auto auto',\n",
    "            grid_template_columns='30% 70%')\n",
    "       )"
   ]
  },
  {
   "cell_type": "code",
   "execution_count": 16,
   "id": "informal-difference",
   "metadata": {},
   "outputs": [
    {
     "name": "stdout",
     "output_type": "stream",
     "text": [
      "LunarLander-v2 10 1000\n"
     ]
    }
   ],
   "source": [
    "print(env_name.value, mem_fill_eps.value, train_eps.value)"
   ]
  },
  {
   "cell_type": "code",
   "execution_count": 17,
   "id": "decreased-mount",
   "metadata": {},
   "outputs": [],
   "source": [
    "import time\n",
    "\n",
    "def train_loop(b, max_count):\n",
    "    progress_bar = widgets.IntProgress(min=0, max=max_count) # instantiate the bar\n",
    "    progress_label = widgets.Label(\"\")\n",
    "    #display(f) # display the bar\n",
    "    display(widgets.HBox([progress_bar, progress_label]))\n",
    "\n",
    "    count = 0\n",
    "    while count <= max_count:\n",
    "        progress_bar.value += 1 # signal to increment the progress bar\n",
    "        progress_label.value = \"{}/{}\".format(progress_bar.value, max_count)\n",
    "        time.sleep(.1)\n",
    "        count += 1"
   ]
  },
  {
   "cell_type": "code",
   "execution_count": 12,
   "id": "buried-district",
   "metadata": {},
   "outputs": [
    {
     "name": "stdout",
     "output_type": "stream",
     "text": [
      "<class 'ipywidgets.widgets.widget_button.Button'>\n"
     ]
    },
    {
     "ename": "TypeError",
     "evalue": "'module' object is not callable",
     "output_type": "error",
     "traceback": [
      "\u001b[0;31m---------------------------------------------------------------------------\u001b[0m",
      "\u001b[0;31mTypeError\u001b[0m                                 Traceback (most recent call last)",
      "\u001b[0;32m<ipython-input-12-183b6fbddac8>\u001b[0m in \u001b[0;36m<module>\u001b[0;34m\u001b[0m\n\u001b[1;32m     14\u001b[0m \u001b[0mprint\u001b[0m\u001b[0;34m(\u001b[0m\u001b[0mtype\u001b[0m\u001b[0;34m(\u001b[0m\u001b[0mbutton_next\u001b[0m\u001b[0;34m)\u001b[0m\u001b[0;34m)\u001b[0m\u001b[0;34m\u001b[0m\u001b[0m\n\u001b[1;32m     15\u001b[0m \u001b[0mbutton_prev\u001b[0m \u001b[0;34m=\u001b[0m \u001b[0mwidgets\u001b[0m\u001b[0;34m.\u001b[0m\u001b[0mButton\u001b[0m\u001b[0;34m(\u001b[0m\u001b[0mdescription\u001b[0m\u001b[0;34m=\u001b[0m\u001b[0;34m\"Prev\"\u001b[0m\u001b[0;34m)\u001b[0m\u001b[0;34m\u001b[0m\u001b[0m\n\u001b[0;32m---> 16\u001b[0;31m \u001b[0mdisplay\u001b[0m\u001b[0;34m(\u001b[0m\u001b[0menv_name\u001b[0m\u001b[0;34m)\u001b[0m\u001b[0;34m\u001b[0m\u001b[0m\n\u001b[0m\u001b[1;32m     17\u001b[0m \u001b[0;34m\u001b[0m\u001b[0m\n\u001b[1;32m     18\u001b[0m \u001b[0;34m\u001b[0m\u001b[0m\n",
      "\u001b[0;31mTypeError\u001b[0m: 'module' object is not callable"
     ]
    }
   ],
   "source": [
    "import functools\n",
    "\n",
    "#max_count=train_eps.value\n",
    "#max_count = 10\n",
    "\n",
    "#train_loop(max_count)\n",
    "\n",
    "#train_btn = widgets.Button(description=\"Train\")\n",
    "#train_btn = widgets.Label(\"yo\")\n",
    "#print(train_btn)\n",
    "#display(widgets.HBox([train_btn]))\n",
    "\n",
    "#button_next = widgets.Button(description=\"Next\")\n",
    "#print(type(button_next))\n",
    "#button_prev = widgets.Button(description=\"Prev\")\n",
    "#display(env_name)\n",
    "\n",
    "\n",
    "\n",
    "#train_btn.on_click(functools.partial(train_loop, max_count=train_eps.value))\n"
   ]
  },
  {
   "cell_type": "code",
   "execution_count": null,
   "id": "wrapped-reference",
   "metadata": {},
   "outputs": [],
   "source": []
  }
 ],
 "metadata": {
  "kernelspec": {
   "display_name": "Python 3",
   "language": "python",
   "name": "python3"
  },
  "language_info": {
   "codemirror_mode": {
    "name": "ipython",
    "version": 3
   },
   "file_extension": ".py",
   "mimetype": "text/x-python",
   "name": "python",
   "nbconvert_exporter": "python",
   "pygments_lexer": "ipython3",
   "version": "3.5.6"
  }
 },
 "nbformat": 4,
 "nbformat_minor": 5
}

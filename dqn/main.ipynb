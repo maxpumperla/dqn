{
 "cells": [
  {
   "cell_type": "code",
   "execution_count": 24,
   "id": "vocal-burke",
   "metadata": {},
   "outputs": [],
   "source": [
    "import os\n",
    "import csv\n",
    "import gym\n",
    "import argparse\n",
    "import numpy as np\n",
    "import pickle\n",
    "import pyvirtualdisplay\n",
    "from livelossplot import PlotLosses\n",
    "\n",
    "from IPython import display\n",
    "import matplotlib\n",
    "import matplotlib.pyplot as plt\n",
    "%matplotlib inline\n",
    "\n",
    "from dqn_agent import DQNAgent\n",
    "\n",
    "import torch\n",
    "device = torch.device(\"cuda\" if torch.cuda.is_available() else \"cpu\")"
   ]
  },
  {
   "cell_type": "code",
   "execution_count": 2,
   "id": "scenic-papua",
   "metadata": {},
   "outputs": [],
   "source": [
    "ENV_NAME_TRAIN = 'LunarLander-v2' ## CartPole-v0, MountainCar-v0, LunarLander-v2\n",
    "RENDER_TRAIN = False\n",
    "\n",
    "NUM_TRAIN_EPS = 1000\n",
    "NUM_MEM_FILL_EPS = 10\n",
    "\n",
    "DISCOUNT = 0.99\n",
    "BATCHSIZE = 64\n",
    "MEMORY_CAPACITY = 5000\n",
    "UPDATE_FREQUENCY = 1000\n",
    "\n",
    "EPS_MAX = 1.0\n",
    "EPS_MIN = 0.01\n",
    "EPS_DECAY = 0.99\n",
    "\n",
    "TRAIN_SEED = 12321"
   ]
  },
  {
   "cell_type": "code",
   "execution_count": 3,
   "id": "toxic-rolling",
   "metadata": {},
   "outputs": [],
   "source": [
    "if os.environ.get('BINDER_SERVICE_HOST'): # test if running in Binder or locally\n",
    "    _display = pyvirtualdisplay.Display(visible=False, size=(1400, 900))\n",
    "    _ = _display.start()"
   ]
  },
  {
   "cell_type": "code",
   "execution_count": 4,
   "id": "comparative-outreach",
   "metadata": {},
   "outputs": [],
   "source": [
    "def get_display_screen(env):\n",
    "    env.reset()\n",
    "    return plt.imshow(env.render(mode='rgb_array')) # only call this once"
   ]
  },
  {
   "cell_type": "code",
   "execution_count": 5,
   "id": "spiritual-definition",
   "metadata": {},
   "outputs": [],
   "source": [
    "def render_env(env, display_screen):\n",
    "    display_screen.set_data(env.render(mode='rgb_array')) # just update the data\n",
    "    display.display(plt.gcf())\n",
    "    display.clear_output(wait=True)"
   ]
  },
  {
   "cell_type": "code",
   "execution_count": 6,
   "id": "smaller-monaco",
   "metadata": {},
   "outputs": [],
   "source": [
    "def set_seeds(env, seed):\n",
    "    os.environ['PYTHONHASHSEED']=str(seed)\n",
    "    np.random.seed(seed)\n",
    "    torch.manual_seed(seed)\n",
    "    env.seed(seed)\n",
    "    env.action_space.np_random.seed(seed)"
   ]
  },
  {
   "cell_type": "code",
   "execution_count": 7,
   "id": "quarterly-amendment",
   "metadata": {},
   "outputs": [],
   "source": [
    "def fill_memory(env, dqn_agent):\n",
    "    for _ in range(NUM_MEM_FILL_EPS):\n",
    "        done = False\n",
    "        state = env.reset()\n",
    "\n",
    "        while not done:\n",
    "            action = env.action_space.sample()\n",
    "            next_state, reward, done, info = env.step(action)\n",
    "            dqn_agent.memory.store(state=state, action=action, next_state=next_state, reward=reward, done=done)"
   ]
  },
  {
   "cell_type": "code",
   "execution_count": 8,
   "id": "experienced-dining",
   "metadata": {},
   "outputs": [],
   "source": [
    "def train_loop(env, dqn_agent, display_screen, results_basepath, render=False):\n",
    "    \n",
    "    liveloss = PlotLosses()\n",
    "    logs = {}\n",
    "    \n",
    "    reward_history = []\n",
    "    epsilon_history = []\n",
    "    loss_history = []\n",
    "\n",
    "    step_cnt = 0\n",
    "    best_score = -np.inf\n",
    "\n",
    "    for ep_cnt in range(NUM_TRAIN_EPS):\n",
    "        done = False\n",
    "        state = env.reset()\n",
    "\n",
    "        ep_score = 0\n",
    "\n",
    "        while not done:\n",
    "            if display_screen is not None:\n",
    "                render_env(env=env, display_screen=display_screen)\n",
    "            action = dqn_agent.select_action(state)\n",
    "            next_state, reward, done, info = env.step(action)\n",
    "\n",
    "            dqn_agent.memory.store(state=state, action=action, next_state=next_state, reward=reward, done=done)\n",
    "            loss = dqn_agent.learn(BATCHSIZE)\n",
    "            loss_history.append(loss)\n",
    "\n",
    "            if step_cnt % UPDATE_FREQUENCY == 0:\n",
    "                dqn_agent.update_target_net()\n",
    "\n",
    "            state = next_state\n",
    "            ep_score += reward\n",
    "            step_cnt += 1\n",
    "            \n",
    "            #logs['train loss'] = loss\n",
    "\n",
    "        epsilon_history.append(dqn_agent.epsilon)\n",
    "        dqn_agent.update_epsilon()\n",
    "\n",
    "        reward_history.append(ep_score)\n",
    "        current_avg_score = np.mean(reward_history[-100:]) # get average of last 100 scores\n",
    "        \n",
    "        #logs['train reward'] = ep_score\n",
    "        logs['train avg score'] = current_avg_score\n",
    "        logs['train epsilon'] = epsilon_history[-1]\n",
    "\n",
    "        print('Ep: {}, Total Steps: {}, Ep: Score: {}, Avg score: {}; Epsilon: {}'.format(ep_cnt, \n",
    "                                                                                          step_cnt, \n",
    "                                                                                          ep_score, \n",
    "                                                                                          current_avg_score, \n",
    "                                                                                          epsilon_history[-1]))\n",
    "        \n",
    "        if current_avg_score >= best_score:\n",
    "            dqn_agent.save_models('{}/policy_model_best'.format(results_basepath))\n",
    "            best_score = current_avg_score\n",
    "            \n",
    "        liveloss.update(logs)\n",
    "        liveloss.send()"
   ]
  },
  {
   "cell_type": "code",
   "execution_count": 10,
   "id": "radical-director",
   "metadata": {},
   "outputs": [],
   "source": [
    "results_basepath_train = \"results/{}_epsmax{}_epsmin{}_epsdec{}_batchsize{}_treps{}_memeps{}\".format(\n",
    "                                                                                                ENV_NAME_TRAIN,\n",
    "                                                                                                EPS_MAX, \n",
    "                                                                                                EPS_MIN, \n",
    "                                                                                                EPS_DECAY, \n",
    "                                                                                                BATCHSIZE,\n",
    "                                                                                                NUM_TRAIN_EPS,\n",
    "                                                                                                NUM_MEM_FILL_EPS)\n",
    "os.makedirs(results_basepath_train, exist_ok=True)\n",
    "\n",
    "env_train = gym.make(ENV_NAME_TRAIN)\n",
    "set_seeds(env_train, TRAIN_SEED)\n",
    "\n",
    "dqn_agent_train = DQNAgent(device, \n",
    "                            env_train.observation_space.shape[0], \n",
    "                            env_train.action_space.n, \n",
    "                            discount=DISCOUNT, \n",
    "                            eps_max=EPS_MAX, \n",
    "                            eps_min=EPS_MIN, \n",
    "                            eps_decay=EPS_DECAY,\n",
    "                            memory_capacity=MEMORY_CAPACITY)\n",
    "\n",
    "display_screen_train = None\n",
    "if RENDER_TRAIN:\n",
    "    display_screen_train = get_display_screen(env_train)"
   ]
  },
  {
   "cell_type": "code",
   "execution_count": 11,
   "id": "owned-tracy",
   "metadata": {},
   "outputs": [],
   "source": [
    "#fill_memory(env_train, dqn_agent_train) \n",
    "#train_loop(env_train, dqn_agent_train, display_screen_train, results_basepath_train)"
   ]
  },
  {
   "cell_type": "code",
   "execution_count": 21,
   "id": "gorgeous-miracle",
   "metadata": {},
   "outputs": [],
   "source": [
    "#RESULTS_BASEPATH_TEST = 'results/CartPole-v0_epsmax1.0_epsmin0.01_epsdec0.99_batchsize64_treps1000_memeps10'\n",
    "#RESULTS_BASEPATH_TEST = 'dqn_res/LunarLander-v2_epsmax1.0_epsmin0.01_epsdec0.995_batchsize64_treps2000'\n",
    "RESULTS_BASEPATH_TEST = 'dqn_res/MountainCar-v0_epsmax1.0_epsmin0.01_epsdec0.995_batchsize64'\n",
    "\n",
    "#ENV_NAME_TEST = 'CartPole-v0'\n",
    "#ENV_NAME_TEST = 'LunarLander-v2'\n",
    "ENV_NAME_TEST = 'MountainCar-v0'\n",
    "\n",
    "RENDER_TEST = False\n",
    "\n",
    "NUM_TEST_EPS = 100\n",
    "TEST_SEED = 456\n",
    "#TEST_SEED = [456, 12, 985234, 123, 3202]"
   ]
  },
  {
   "cell_type": "code",
   "execution_count": 22,
   "id": "pleasant-fantasy",
   "metadata": {},
   "outputs": [],
   "source": [
    "def test_loop(env, agent, display_screen, results_basepath):\n",
    "    liveloss = PlotLosses()\n",
    "    logs = {}\n",
    "    \n",
    "    step_cnt = 0\n",
    "    reward_history = []\n",
    "\n",
    "    for ep in range(NUM_TEST_EPS):\n",
    "        score = 0\n",
    "        done = False\n",
    "        state = env.reset()\n",
    "        while not done: # and step_cnt<1000:\n",
    "            if display_screen is not None:\n",
    "                env.render()\n",
    "            action = agent.select_action(state)\n",
    "            next_state, reward, done, _ = env.step(action)\n",
    "            score += reward\n",
    "            state = next_state\n",
    "            step_cnt += 1\n",
    "            \n",
    "        reward_history.append(score)\n",
    "        logs['test score'] = score\n",
    "        liveloss.update(logs)\n",
    "        liveloss.send()\n",
    "        \n",
    "        #print('Ep: {}, Score: {}'.format(ep, score))\n",
    "\n",
    "    with open('{}/test_reward_history_{}_bleh.pkl'.format(results_basepath, TEST_SEED), 'wb') as f:\n",
    "        pickle.dump(reward_history, f)"
   ]
  },
  {
   "cell_type": "code",
   "execution_count": 23,
   "id": "closing-scholar",
   "metadata": {},
   "outputs": [
    {
     "data": {
      "image/png": "[encoded data removed]",
      "text/plain": [
       "<Figure size 864x576 with 2 Axes>"
      ]
     },
     "metadata": {
      "needs_background": "light"
     },
     "output_type": "display_data"
    },
    {
     "name": "stdout",
     "output_type": "stream",
     "text": [
      "test score\n",
      "\ttest score       \t (min: -175.000, max:  -85.000, cur: -116.000)\n"
     ]
    }
   ],
   "source": [
    "env_test = gym.make(ENV_NAME_TEST)\n",
    "set_seeds(env_test, TEST_SEED)\n",
    "\n",
    "dqn_agent_test = DQNAgent(device=device, \n",
    "                          state_size=env_test.observation_space.shape[0], \n",
    "                          action_size=env_test.action_space.n,\n",
    "                          discount=0.0, \n",
    "                          eps_max=0.0, \n",
    "                          eps_min=0.0, \n",
    "                          eps_decay=0.0,\n",
    "                          memory_capacity=0,\n",
    "                          train_mode=False)\n",
    "dqn_agent_test.load_model('{}/policy_model_best'.format(RESULTS_BASEPATH_TEST))\n",
    "\n",
    "display_screen_test = None\n",
    "if RENDER_TEST:\n",
    "    display_screen_test = get_display_screen(env_test)\n",
    "\n",
    "test_loop(env=env_test, \n",
    "          agent=dqn_agent_test, \n",
    "          display_screen=display_screen_test, \n",
    "          results_basepath=RESULTS_BASEPATH_TEST)"
   ]
  },
  {
   "cell_type": "code",
   "execution_count": null,
   "id": "cubic-shopper",
   "metadata": {},
   "outputs": [],
   "source": []
  }
 ],
 "metadata": {
  "kernelspec": {
   "display_name": "Python 3",
   "language": "python",
   "name": "python3"
  },
  "language_info": {
   "codemirror_mode": {
    "name": "ipython",
    "version": 3
   },
   "file_extension": ".py",
   "mimetype": "text/x-python",
   "name": "python",
   "nbconvert_exporter": "python",
   "pygments_lexer": "ipython3",
   "version": "3.5.6"
  }
 },
 "nbformat": 4,
 "nbformat_minor": 5
}

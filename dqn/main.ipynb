{
 "cells": [
  {
   "cell_type": "code",
   "execution_count": 1,
   "id": "remarkable-sequence",
   "metadata": {},
   "outputs": [],
   "source": [
    "import os\n",
    "import csv\n",
    "import gym\n",
    "import argparse\n",
    "import numpy as np\n",
    "import pickle\n",
    "import pyvirtualdisplay\n",
    "from livelossplot import PlotLosses\n",
    "from collections import deque\n",
    "\n",
    "from IPython import display\n",
    "import matplotlib\n",
    "import matplotlib.pyplot as plt\n",
    "%matplotlib inline\n",
    "\n",
    "from dqn_agent import DQNAgent\n",
    "\n",
    "import torch\n",
    "device = torch.device(\"cuda\" if torch.cuda.is_available() else \"cpu\")"
   ]
  },
  {
   "cell_type": "code",
   "execution_count": 2,
   "id": "negative-germany",
   "metadata": {},
   "outputs": [],
   "source": [
    "ENV_NAME_TRAIN = 'LunarLander-v2' ## CartPole-v0, MountainCar-v0, LunarLander-v2\n",
    "RENDER_TRAIN = False\n",
    "\n",
    "NUM_TRAIN_EPS = 10 #1000\n",
    "NUM_MEM_FILL_EPS = 5 #10\n",
    "\n",
    "DISCOUNT = 0.99\n",
    "BATCHSIZE = 64\n",
    "MEMORY_CAPACITY = 5000\n",
    "UPDATE_FREQUENCY = 1000\n",
    "\n",
    "EPS_MAX = 1.0\n",
    "EPS_MIN = 0.01\n",
    "EPS_DECAY = 0.99\n",
    "\n",
    "TRAIN_SEED = 12321\n",
    "\n",
    "BINDER_IN_USE = os.environ.get('BINDER_SERVICE_HOST') is not None"
   ]
  },
  {
   "cell_type": "code",
   "execution_count": 3,
   "id": "primary-taylor",
   "metadata": {},
   "outputs": [],
   "source": [
    "if BINDER_IN_USE: # test if running in Binder or locally\n",
    "    _display = pyvirtualdisplay.Display(visible=False, size=(1400, 900))\n",
    "    _ = _display.start()"
   ]
  },
  {
   "cell_type": "code",
   "execution_count": 4,
   "id": "precise-bridge",
   "metadata": {},
   "outputs": [],
   "source": [
    "def get_display_screen(env, render):\n",
    "    env.reset()\n",
    "    if not render:\n",
    "        return None\n",
    "    return plt.imshow(env.render(mode='rgb_array')) # only call this once"
   ]
  },
  {
   "cell_type": "code",
   "execution_count": 5,
   "id": "decimal-tension",
   "metadata": {},
   "outputs": [],
   "source": [
    "def render_env(env, display_screen):\n",
    "    display_screen.set_data(env.render(mode='rgb_array')) # just update the data\n",
    "    display.display(plt.gcf())\n",
    "    display.clear_output(wait=True)"
   ]
  },
  {
   "cell_type": "code",
   "execution_count": 6,
   "id": "mexican-exploration",
   "metadata": {},
   "outputs": [],
   "source": [
    "def set_seeds(env, seed):\n",
    "    os.environ['PYTHONHASHSEED']=str(seed)\n",
    "    np.random.seed(seed)\n",
    "    torch.manual_seed(seed)\n",
    "    \n",
    "    env.seed(seed)\n",
    "    env.action_space.np_random.seed(seed)"
   ]
  },
  {
   "cell_type": "code",
   "execution_count": 7,
   "id": "loved-stranger",
   "metadata": {},
   "outputs": [],
   "source": [
    "def fill_memory(env, dqn_agent):\n",
    "    for _ in range(NUM_MEM_FILL_EPS):\n",
    "        done = False\n",
    "        state = env.reset()\n",
    "\n",
    "        while not done:\n",
    "            action = env.action_space.sample()\n",
    "            next_state, reward, done, info = env.step(action)\n",
    "            dqn_agent.memory.store(state=state, action=action, next_state=next_state, reward=reward, done=done)"
   ]
  },
  {
   "cell_type": "code",
   "execution_count": 8,
   "id": "crude-privacy",
   "metadata": {},
   "outputs": [],
   "source": [
    "def train_loop(env, agent, display_screen, results_basepath):\n",
    "    \n",
    "    liveloss = PlotLosses()\n",
    "    logs = {}\n",
    "    \n",
    "    last_100_rewards = deque([], maxlen=100)\n",
    "    \n",
    "    reward_history = []\n",
    "    epsilon_history = []\n",
    "    \n",
    "    step_cnt = 0\n",
    "    best_score = -np.inf\n",
    "\n",
    "    for ep_cnt in range(NUM_TRAIN_EPS):\n",
    "        \n",
    "        logs['train epsilon'] = agent.epsilon\n",
    "        \n",
    "        done = False\n",
    "        state = env.reset()\n",
    "\n",
    "        ep_score = 0\n",
    "\n",
    "        while not done:\n",
    "            if display_screen is not None:\n",
    "                render_env(env=env, display_screen=display_screen)\n",
    "            action = agent.select_action(state)\n",
    "            next_state, reward, done, info = env.step(action)\n",
    "\n",
    "            agent.memory.store(state=state, action=action, next_state=next_state, reward=reward, done=done)\n",
    "            agent.learn(BATCHSIZE)\n",
    "            \n",
    "            if step_cnt % UPDATE_FREQUENCY == 0:\n",
    "                agent.update_target_net()\n",
    "\n",
    "            state = next_state\n",
    "            ep_score += reward\n",
    "            step_cnt += 1\n",
    "\n",
    "        agent.update_epsilon()\n",
    "\n",
    "        last_100_rewards.append(ep_score)\n",
    "        current_avg_score = np.mean(last_100_rewards) # get average of last 100 scores\n",
    "        logs['train avg score'] = current_avg_score\n",
    "        \n",
    "        if not BINDER_IN_USE:\n",
    "            reward_history.append(ep_score)\n",
    "            epsilon_history.append(logs['train epsilon'])\n",
    "        \n",
    "        if current_avg_score >= best_score:\n",
    "            agent.save_model('{}/policy_model_best'.format(results_basepath))\n",
    "            best_score = current_avg_score\n",
    "            \n",
    "        liveloss.update(logs)\n",
    "        liveloss.send()\n",
    "        \n",
    "    if not BINDER_IN_USE:\n",
    "        with open('{}/train_reward_history.pkl'.format(results_basepath), 'wb') as f:\n",
    "            pickle.dump(reward_history, f)\n",
    "\n",
    "        with open('{}/train_epsilon_history.pkl'.format(results_basepath), 'wb') as f:\n",
    "            pickle.dump(epsilon_history, f)\n"
   ]
  },
  {
   "cell_type": "code",
   "execution_count": 9,
   "id": "collected-danish",
   "metadata": {},
   "outputs": [],
   "source": [
    "results_basepath_train = \"results/{}_epsmax{}_epsmin{}_epsdec{}_batchsize{}_treps{}_memeps{}\".format(\n",
    "                                                                                                ENV_NAME_TRAIN,\n",
    "                                                                                                EPS_MAX, \n",
    "                                                                                                EPS_MIN, \n",
    "                                                                                                EPS_DECAY, \n",
    "                                                                                                BATCHSIZE,\n",
    "                                                                                                NUM_TRAIN_EPS,\n",
    "                                                                                                NUM_MEM_FILL_EPS)\n",
    "os.makedirs(results_basepath_train, exist_ok=True)\n",
    "\n",
    "env_train = gym.make(ENV_NAME_TRAIN)\n",
    "set_seeds(env_train, TRAIN_SEED)\n",
    "\n",
    "dqn_agent_train = DQNAgent(device, \n",
    "                            env_train.observation_space.shape[0], \n",
    "                            env_train.action_space.n, \n",
    "                            discount=DISCOUNT, \n",
    "                            eps_max=EPS_MAX, \n",
    "                            eps_min=EPS_MIN, \n",
    "                            eps_decay=EPS_DECAY,\n",
    "                            memory_capacity=MEMORY_CAPACITY)\n",
    "\n",
    "display_screen_train = get_display_screen(env_train, RENDER_TRAIN)"
   ]
  },
  {
   "cell_type": "code",
   "execution_count": 10,
   "id": "chicken-brief",
   "metadata": {},
   "outputs": [
    {
     "data": {
      "image/png": "[encoded data removed]",
      "text/plain": [
       "<Figure size 864x576 with 2 Axes>"
      ]
     },
     "metadata": {
      "needs_background": "light"
     },
     "output_type": "display_data"
    },
    {
     "name": "stdout",
     "output_type": "stream",
     "text": [
      "train avg score\n",
      "\ttrain avg score  \t (min: -226.797, max: -118.023, cur: -201.102)\n",
      "train epsilon\n",
      "\ttrain epsilon    \t (min:    0.914, max:    1.000, cur:    0.914)\n"
     ]
    }
   ],
   "source": [
    "fill_memory(env_train, dqn_agent_train) \n",
    "train_loop(env_train, dqn_agent_train, display_screen_train, results_basepath_train)"
   ]
  },
  {
   "cell_type": "code",
   "execution_count": null,
   "id": "yellow-ethiopia",
   "metadata": {},
   "outputs": [],
   "source": [
    "#RESULTS_BASEPATH_TEST = 'results/CartPole-v0_epsmax1.0_epsmin0.01_epsdec0.99_batchsize64_treps1000_memeps10'\n",
    "#RESULTS_BASEPATH_TEST = 'dqn_res/LunarLander-v2_epsmax1.0_epsmin0.01_epsdec0.995_batchsize64_treps2000'\n",
    "#RESULTS_BASEPATH_TEST = 'dqn_res/MountainCar-v0_epsmax1.0_epsmin0.01_epsdec0.995_batchsize64'\n",
    "RESULTS_BASEPATH_TEST = 'results/LunarLander-v2_epsmax1.0_epsmin0.01_epsdec0.99_batchsize64_treps10_memeps5'\n",
    "\n",
    "#ENV_NAME_TEST = 'CartPole-v0'\n",
    "ENV_NAME_TEST = 'LunarLander-v2'\n",
    "#ENV_NAME_TEST = 'MountainCar-v0'\n",
    "\n",
    "RENDER_TEST = False\n",
    "\n",
    "NUM_TEST_EPS = 100\n",
    "TEST_SEED = 456\n",
    "#TEST_SEED = [456, 12, 985234, 123, 3202]"
   ]
  },
  {
   "cell_type": "code",
   "execution_count": null,
   "id": "broken-aircraft",
   "metadata": {},
   "outputs": [],
   "source": [
    "def test_loop(env, agent, display_screen, results_basepath):\n",
    "    liveloss = PlotLosses()\n",
    "    logs = {}\n",
    "    \n",
    "    reward_history = []\n",
    "    \n",
    "    for ep in range(NUM_TEST_EPS):\n",
    "        ep_score = 0\n",
    "        done = False\n",
    "        state = env.reset()\n",
    "        while not done:\n",
    "            if display_screen is not None:\n",
    "                render_env(env=env, display_screen=display_screen)\n",
    "            action = agent.select_action(state)\n",
    "            next_state, reward, done, _ = env.step(action)\n",
    "            ep_score += reward\n",
    "            state = next_state\n",
    "            \n",
    "        if not BINDER_IN_USE:\n",
    "            reward_history.append(ep_score)\n",
    "            \n",
    "        logs['test score'] = ep_score\n",
    "        liveloss.update(logs)\n",
    "        liveloss.send()\n",
    "        \n",
    "    if not BINDER_IN_USE:\n",
    "        with open('{}/test_reward_history_{}.pkl'.format(results_basepath, seed_value), 'wb') as f:\n",
    "            pickle.dump(reward_history, f)"
   ]
  },
  {
   "cell_type": "code",
   "execution_count": null,
   "id": "embedded-score",
   "metadata": {},
   "outputs": [],
   "source": [
    "env_test = gym.make(ENV_NAME_TEST)\n",
    "set_seeds(env_test, TEST_SEED)\n",
    "\n",
    "dqn_agent_test = DQNAgent(device=device, \n",
    "                          state_size=env_test.observation_space.shape[0], \n",
    "                          action_size=env_test.action_space.n,\n",
    "                          discount=0.0, \n",
    "                          eps_max=0.0, \n",
    "                          eps_min=0.0, \n",
    "                          eps_decay=0.0,\n",
    "                          memory_capacity=0,\n",
    "                          train_mode=False)\n",
    "dqn_agent_test.load_model('{}/policy_model_best'.format(RESULTS_BASEPATH_TEST))\n",
    "\n",
    "display_screen_test = get_display_screen(env_test, RENDER_TEST)"
   ]
  },
  {
   "cell_type": "code",
   "execution_count": null,
   "id": "after-applicant",
   "metadata": {},
   "outputs": [],
   "source": [
    "test_loop(env=env_test, \n",
    "          agent=dqn_agent_test, \n",
    "          display_screen=display_screen_test, \n",
    "          results_basepath=RESULTS_BASEPATH_TEST)"
   ]
  },
  {
   "cell_type": "code",
   "execution_count": null,
   "id": "velvet-basic",
   "metadata": {},
   "outputs": [],
   "source": [
    "display_screen_render = get_display_screen(env_test, True)\n",
    "NUM_TEST_EPS = 1\n",
    "\n",
    "test_loop(env=env_test, \n",
    "          agent=dqn_agent_test, \n",
    "          display_screen=display_screen_render, \n",
    "          results_basepath=RESULTS_BASEPATH_TEST)"
   ]
  },
  {
   "cell_type": "code",
   "execution_count": null,
   "id": "amended-candy",
   "metadata": {},
   "outputs": [],
   "source": []
  }
 ],
 "metadata": {
  "kernelspec": {
   "display_name": "Python 3",
   "language": "python",
   "name": "python3"
  },
  "language_info": {
   "codemirror_mode": {
    "name": "ipython",
    "version": 3
   },
   "file_extension": ".py",
   "mimetype": "text/x-python",
   "name": "python",
   "nbconvert_exporter": "python",
   "pygments_lexer": "ipython3",
   "version": "3.5.6"
  }
 },
 "nbformat": 4,
 "nbformat_minor": 5
}
